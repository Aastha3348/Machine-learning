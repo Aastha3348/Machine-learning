{
 "cells": [
  {
   "cell_type": "code",
   "execution_count": 23,
   "metadata": {},
   "outputs": [],
   "source": [
    "import emoji\n",
    "\n",
    "emoji_dictionary = {\"0\":\"\\u2764\\uFE0F\", #Black Heart\n",
    "                    \"1\":\":baseball:\",\n",
    "                    \"2\":\":smile:\",\n",
    "                    \"3\":\":disappointed:\",\n",
    "                    \"4\":\":fork_and_knife:\",\n",
    "                    \"5\":\":sunglasses:\",\n",
    "                    \"6\":\":kiss:\",\n",
    "                    \"7\":\":tongue:\",\n",
    "                    \"8\":\":poop:\"}\n",
    "def label_to_emoji(label):\n",
    "    return emoji.emojize(emoji_dictionary[str(label)] , use_aliases = True)"
   ]
  },
  {
   "cell_type": "code",
   "execution_count": 24,
   "metadata": {},
   "outputs": [
    {
     "name": "stdout",
     "output_type": "stream",
     "text": [
      "❤️\n",
      "⚾\n",
      "😄\n",
      "😞\n",
      "🍴\n",
      "😎\n",
      "💋\n",
      "👅\n",
      "💩\n"
     ]
    }
   ],
   "source": [
    "for i in range(9):\n",
    "    print(label_to_emoji(i))"
   ]
  },
  {
   "cell_type": "code",
   "execution_count": null,
   "metadata": {},
   "outputs": [],
   "source": []
  }
 ],
 "metadata": {
  "kernelspec": {
   "display_name": "Python 3",
   "language": "python",
   "name": "python3"
  },
  "language_info": {
   "codemirror_mode": {
    "name": "ipython",
    "version": 3
   },
   "file_extension": ".py",
   "mimetype": "text/x-python",
   "name": "python",
   "nbconvert_exporter": "python",
   "pygments_lexer": "ipython3",
   "version": "3.7.6"
  }
 },
 "nbformat": 4,
 "nbformat_minor": 4
}
